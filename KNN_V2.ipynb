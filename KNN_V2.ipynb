{
 "cells": [
  {
   "cell_type": "markdown",
   "metadata": {},
   "source": [
    "\n",
    "\n",
    "\n",
    "Codez l’algorithme de KNN sous forme une fonction (def KNN(Data_Test, Data_Train, Label_Train, k=1, **kargs)) qui :\n",
    "Calcul la distance entre Data de test et Data d’apprentissage.\n",
    "Trouve la/les distances plus proche de « k » voisins.\n",
    "Classe Data de test selon la classe majoritaire de « k » voisins.\n",
    "Retourne la classe de Data Test.\n",
    "Réalisez des expérimentations en variant la distance et le nombre de « k ».\n",
    "Calculez les performances (exemple : Acc) et tracez la courbe de performance de chaque expérimentation. (Les résultats avec interprétation/argumentation doivent figurer dans le notebook comme dans le compte rendu)."
   ]
  },
  {
   "cell_type": "code",
   "execution_count": 1,
   "metadata": {},
   "outputs": [
    {
     "data": {
      "text/html": [
       "<div>\n",
       "<style scoped>\n",
       "    .dataframe tbody tr th:only-of-type {\n",
       "        vertical-align: middle;\n",
       "    }\n",
       "\n",
       "    .dataframe tbody tr th {\n",
       "        vertical-align: top;\n",
       "    }\n",
       "\n",
       "    .dataframe thead th {\n",
       "        text-align: right;\n",
       "    }\n",
       "</style>\n",
       "<table border=\"1\" class=\"dataframe\">\n",
       "  <thead>\n",
       "    <tr style=\"text-align: right;\">\n",
       "      <th></th>\n",
       "      <th>Q1</th>\n",
       "      <th>Q2</th>\n",
       "      <th>Q3</th>\n",
       "      <th>Q4</th>\n",
       "      <th>Q5</th>\n",
       "      <th>Q6</th>\n",
       "      <th>Q7</th>\n",
       "      <th>Q8</th>\n",
       "      <th>Q9</th>\n",
       "      <th>Q10</th>\n",
       "      <th>Score</th>\n",
       "      <th>Interpretation</th>\n",
       "    </tr>\n",
       "  </thead>\n",
       "  <tbody>\n",
       "    <tr>\n",
       "      <th>0</th>\n",
       "      <td>a</td>\n",
       "      <td>a</td>\n",
       "      <td>a</td>\n",
       "      <td>a</td>\n",
       "      <td>a</td>\n",
       "      <td>1</td>\n",
       "      <td>1</td>\n",
       "      <td>1</td>\n",
       "      <td>1</td>\n",
       "      <td>1</td>\n",
       "      <td>10</td>\n",
       "      <td>B</td>\n",
       "    </tr>\n",
       "    <tr>\n",
       "      <th>1</th>\n",
       "      <td>b</td>\n",
       "      <td>b</td>\n",
       "      <td>b</td>\n",
       "      <td>b</td>\n",
       "      <td>b</td>\n",
       "      <td>2</td>\n",
       "      <td>2</td>\n",
       "      <td>2</td>\n",
       "      <td>2</td>\n",
       "      <td>2</td>\n",
       "      <td>0</td>\n",
       "      <td>C</td>\n",
       "    </tr>\n",
       "    <tr>\n",
       "      <th>2</th>\n",
       "      <td>c</td>\n",
       "      <td>c</td>\n",
       "      <td>c</td>\n",
       "      <td>c</td>\n",
       "      <td>c</td>\n",
       "      <td>3</td>\n",
       "      <td>3</td>\n",
       "      <td>3</td>\n",
       "      <td>3</td>\n",
       "      <td>3</td>\n",
       "      <td>20</td>\n",
       "      <td>A</td>\n",
       "    </tr>\n",
       "    <tr>\n",
       "      <th>3</th>\n",
       "      <td>a</td>\n",
       "      <td>b</td>\n",
       "      <td>c</td>\n",
       "      <td>a</td>\n",
       "      <td>b</td>\n",
       "      <td>1</td>\n",
       "      <td>2</td>\n",
       "      <td>3</td>\n",
       "      <td>1</td>\n",
       "      <td>2</td>\n",
       "      <td>8</td>\n",
       "      <td>C</td>\n",
       "    </tr>\n",
       "    <tr>\n",
       "      <th>4</th>\n",
       "      <td>b</td>\n",
       "      <td>c</td>\n",
       "      <td>a</td>\n",
       "      <td>c</td>\n",
       "      <td>a</td>\n",
       "      <td>3</td>\n",
       "      <td>2</td>\n",
       "      <td>3</td>\n",
       "      <td>1</td>\n",
       "      <td>2</td>\n",
       "      <td>11</td>\n",
       "      <td>B</td>\n",
       "    </tr>\n",
       "    <tr>\n",
       "      <th>...</th>\n",
       "      <td>...</td>\n",
       "      <td>...</td>\n",
       "      <td>...</td>\n",
       "      <td>...</td>\n",
       "      <td>...</td>\n",
       "      <td>...</td>\n",
       "      <td>...</td>\n",
       "      <td>...</td>\n",
       "      <td>...</td>\n",
       "      <td>...</td>\n",
       "      <td>...</td>\n",
       "      <td>...</td>\n",
       "    </tr>\n",
       "    <tr>\n",
       "      <th>188</th>\n",
       "      <td>c</td>\n",
       "      <td>c</td>\n",
       "      <td>NaN</td>\n",
       "      <td>c</td>\n",
       "      <td>c</td>\n",
       "      <td>NaN</td>\n",
       "      <td>NaN</td>\n",
       "      <td>3.0</td>\n",
       "      <td>3</td>\n",
       "      <td>3</td>\n",
       "      <td>14</td>\n",
       "      <td>B</td>\n",
       "    </tr>\n",
       "    <tr>\n",
       "      <th>189</th>\n",
       "      <td>b</td>\n",
       "      <td>a</td>\n",
       "      <td>c</td>\n",
       "      <td>NaN</td>\n",
       "      <td>b</td>\n",
       "      <td>NaN</td>\n",
       "      <td>2.0</td>\n",
       "      <td>NaN</td>\n",
       "      <td>3</td>\n",
       "      <td>2</td>\n",
       "      <td>5</td>\n",
       "      <td>C</td>\n",
       "    </tr>\n",
       "    <tr>\n",
       "      <th>190</th>\n",
       "      <td>a</td>\n",
       "      <td>c</td>\n",
       "      <td>b</td>\n",
       "      <td>NaN</td>\n",
       "      <td>NaN</td>\n",
       "      <td>1.0</td>\n",
       "      <td>NaN</td>\n",
       "      <td>3.0</td>\n",
       "      <td>2</td>\n",
       "      <td>3</td>\n",
       "      <td>8</td>\n",
       "      <td>C</td>\n",
       "    </tr>\n",
       "    <tr>\n",
       "      <th>191</th>\n",
       "      <td>a</td>\n",
       "      <td>n</td>\n",
       "      <td>e</td>\n",
       "      <td>a</td>\n",
       "      <td>b</td>\n",
       "      <td>v</td>\n",
       "      <td>t</td>\n",
       "      <td>Y</td>\n",
       "      <td>'</td>\n",
       "      <td>1</td>\n",
       "      <td>3</td>\n",
       "      <td>C</td>\n",
       "    </tr>\n",
       "    <tr>\n",
       "      <th>192</th>\n",
       "      <td>A</td>\n",
       "      <td>b</td>\n",
       "      <td>c</td>\n",
       "      <td>lk</td>\n",
       "      <td>k</td>\n",
       "      <td>n</td>\n",
       "      <td>2</td>\n",
       "      <td>0</td>\n",
       "      <td>5</td>\n",
       "      <td>3</td>\n",
       "      <td>4</td>\n",
       "      <td>C</td>\n",
       "    </tr>\n",
       "  </tbody>\n",
       "</table>\n",
       "<p>193 rows × 12 columns</p>\n",
       "</div>"
      ],
      "text/plain": [
       "    Q1 Q2   Q3   Q4   Q5   Q6   Q7   Q8 Q9 Q10  Score Interpretation\n",
       "0    a  a    a    a    a    1    1    1  1   1     10              B\n",
       "1    b  b    b    b    b    2    2    2  2   2      0              C\n",
       "2    c  c    c    c    c    3    3    3  3   3     20              A\n",
       "3    a  b    c    a    b    1    2    3  1   2      8              C\n",
       "4    b  c    a    c    a    3    2    3  1   2     11              B\n",
       "..  .. ..  ...  ...  ...  ...  ...  ... ..  ..    ...            ...\n",
       "188  c  c  NaN    c    c  NaN  NaN  3.0  3   3     14              B\n",
       "189  b  a    c  NaN    b  NaN  2.0  NaN  3   2      5              C\n",
       "190  a  c    b  NaN  NaN  1.0  NaN  3.0  2   3      8              C\n",
       "191  a  n    e    a    b    v    t    Y  '   1      3              C\n",
       "192  A  b    c   lk    k    n    2    0  5   3      4              C\n",
       "\n",
       "[193 rows x 12 columns]"
      ]
     },
     "execution_count": 1,
     "metadata": {},
     "output_type": "execute_result"
    }
   ],
   "source": [
    "import pandas as pd\n",
    "import numpy as np\n",
    "import os\n",
    "import glob\n",
    "import sklearn\n",
    "from sklearn import preprocessing\n",
    "import matplotlib.pyplot as plt\n",
    "\n",
    "\n",
    "filenames = glob.glob(\"./DataSet\" + \"/*.csv\")\n",
    "\n",
    "dfs = []\n",
    "for filename in filenames:\n",
    "    dfs.append(pd.read_csv(filename))\n",
    "\n",
    "# Concatenate all data into one DataFrame\n",
    "df = pd.concat(dfs, ignore_index=True)\n",
    "\n",
    "df\n"
   ]
  },
  {
   "cell_type": "code",
   "execution_count": 2,
   "metadata": {},
   "outputs": [
    {
     "name": "stdout",
     "output_type": "stream",
     "text": [
      "[2 3 1 3 2 2 3 3 3 3 2 3 3 2 3 3 3 2 3 3 2 3 2 3 3 3 3 3 3 2 3 3 3 3 3 2 3\n",
      " 2 3 3 3 2 3 2 3 3 3 3 3 3 3 3 3 3 2 2 3 3 3 3 3 3 3 3 2 3 3 2 3 3 3 3 2 2\n",
      " 2 3 2 2 2 3 3 3 3 2 2 3 2 3 3 3 2 3 2 2 2 3 2 2 2 2 2 2 3 2 3 2 3 2 2 3 3\n",
      " 3 3 3 2 2 2 3 3 3 3 3 3 3 3 3 1 3 3 3 3 3 3 2 2 3 3 3 3 3 3 3 3 3 3 2 2 2\n",
      " 1 3 3 3 2 3 3 2 3 3 2 1 2 3 3 2 2 2 2 2 2 3 3 3 3 3 3 3 3 3 2 2 3 3 3 2 2\n",
      " 1 2 3 2 3 3 3 3]\n"
     ]
    }
   ],
   "source": [
    "y=df['Interpretation']\n",
    "y=np.array(y)\n",
    "le = preprocessing.LabelEncoder()\n",
    "y=le.fit_transform(y)+1\n",
    "print(y)"
   ]
  },
  {
   "cell_type": "code",
   "execution_count": 3,
   "metadata": {},
   "outputs": [
    {
     "name": "stdout",
     "output_type": "stream",
     "text": [
      "<class 'pandas.core.frame.DataFrame'>\n",
      "RangeIndex: 193 entries, 0 to 192\n",
      "Data columns (total 12 columns):\n",
      " #   Column          Non-Null Count  Dtype \n",
      "---  ------          --------------  ----- \n",
      " 0   Q1              185 non-null    object\n",
      " 1   Q2              181 non-null    object\n",
      " 2   Q3              180 non-null    object\n",
      " 3   Q4              184 non-null    object\n",
      " 4   Q5              180 non-null    object\n",
      " 5   Q6              182 non-null    object\n",
      " 6   Q7              185 non-null    object\n",
      " 7   Q8              183 non-null    object\n",
      " 8   Q9              185 non-null    object\n",
      " 9   Q10             186 non-null    object\n",
      " 10  Score           193 non-null    int64 \n",
      " 11  Interpretation  193 non-null    object\n",
      "dtypes: int64(1), object(11)\n",
      "memory usage: 18.2+ KB\n"
     ]
    },
    {
     "data": {
      "text/plain": [
       "8     27\n",
       "10    24\n",
       "9     21\n",
       "6     18\n",
       "7     17\n",
       "0     13\n",
       "11    10\n",
       "12     9\n",
       "5      8\n",
       "14     7\n",
       "4      6\n",
       "3      5\n",
       "13     5\n",
       "20     5\n",
       "1      5\n",
       "17     4\n",
       "2      4\n",
       "16     3\n",
       "19     2\n",
       "Name: Score, dtype: int64"
      ]
     },
     "execution_count": 3,
     "metadata": {},
     "output_type": "execute_result"
    }
   ],
   "source": [
    "df.info() \n",
    "df.head(5) \n",
    "df.shape \n",
    "df.columns \n",
    "df[\"Q1\"].nunique() \n",
    "df[\"Q1\"].unique() \n",
    "df.columns.nunique() \n",
    "df['Score'].value_counts() "
   ]
  },
  {
   "cell_type": "code",
   "execution_count": 4,
   "metadata": {},
   "outputs": [
    {
     "name": "stdout",
     "output_type": "stream",
     "text": [
      "Q1                 8\n",
      "Q2                12\n",
      "Q3                13\n",
      "Q4                 9\n",
      "Q5                13\n",
      "Q6                11\n",
      "Q7                 8\n",
      "Q8                10\n",
      "Q9                 8\n",
      "Q10                7\n",
      "Score              0\n",
      "Interpretation     0\n",
      "dtype: int64\n"
     ]
    }
   ],
   "source": [
    "print(df.isna().sum())"
   ]
  },
  {
   "cell_type": "markdown",
   "metadata": {},
   "source": [
    "## Remplacement des valeurs erronées et manquantes par des valeurs qui n'influenceront pas le score. D'après le code Python, ces valeurs sont b ou 2. "
   ]
  },
  {
   "cell_type": "code",
   "execution_count": 5,
   "metadata": {
    "scrolled": true
   },
   "outputs": [
    {
     "name": "stdout",
     "output_type": "stream",
     "text": [
      "    Q1 Q2 Q3 Q4 Q5\n",
      "0    a  a  a  a  a\n",
      "1    b  b  b  b  b\n",
      "2    c  c  c  c  c\n",
      "3    a  b  c  a  b\n",
      "4    b  c  a  c  a\n",
      "..  .. .. .. .. ..\n",
      "188  c  c  c  c  c\n",
      "189  b  a  c  c  b\n",
      "190  a  c  b  c  a\n",
      "191  a  b  c  a  b\n",
      "192  a  b  c  c  a\n",
      "\n",
      "[193 rows x 5 columns]\n",
      "Q1    0\n",
      "Q2    0\n",
      "Q3    0\n",
      "Q4    0\n",
      "Q5    0\n",
      "dtype: int64\n"
     ]
    }
   ],
   "source": [
    "df_lettre=df[[\"Q1\",\"Q2\",\"Q3\",\"Q4\",\"Q5\"]]\n",
    "df_lettre=df_lettre.replace({'A':'a', 'B': 'b', 'C': 'c'})\n",
    "df_lettre=df_lettre[df_lettre.isin([\"a\",\"b\",\"c\"])]\n",
    "# print(df_lettre.mode())\n",
    "df_lettre= df_lettre.fillna(df_lettre.mode().iloc[0])\n",
    "# df_lettre= df_lettre.fillna('b')\n",
    "print(df_lettre)\n",
    "print(df_lettre.isna().sum())"
   ]
  },
  {
   "cell_type": "code",
   "execution_count": 6,
   "metadata": {},
   "outputs": [
    {
     "name": "stdout",
     "output_type": "stream",
     "text": [
      "     Q1  Q2  Q3  Q4  Q5\n",
      "0     1   1   1   1   1\n",
      "1     2   2   2   2   2\n",
      "2     3   3   3   3   3\n",
      "3     1   2   3   1   2\n",
      "4     2   3   1   3   1\n",
      "..   ..  ..  ..  ..  ..\n",
      "188   3   3   3   3   3\n",
      "189   2   1   3   3   2\n",
      "190   1   3   2   3   1\n",
      "191   1   2   3   1   2\n",
      "192   1   2   3   3   1\n",
      "\n",
      "[193 rows x 5 columns] (193, 12)\n"
     ]
    }
   ],
   "source": [
    "le = preprocessing.LabelEncoder()\n",
    "for i in df_lettre:\n",
    "    df_lettre[i]=le.fit_transform(df_lettre[i])+1\n",
    "\n",
    "print(df_lettre,df.shape)"
   ]
  },
  {
   "cell_type": "code",
   "execution_count": 7,
   "metadata": {},
   "outputs": [
    {
     "name": "stdout",
     "output_type": "stream",
     "text": [
      "      Q6   Q7   Q8   Q9  Q10\n",
      "0    2.0  2.0  2.0  2.0  2.0\n",
      "1    2.0  2.0  2.0  2.0  2.0\n",
      "2    2.0  2.0  2.0  2.0  2.0\n",
      "3    2.0  2.0  2.0  2.0  2.0\n",
      "4    2.0  2.0  2.0  2.0  2.0\n",
      "..   ...  ...  ...  ...  ...\n",
      "188  2.0  2.0  2.0  3.0  2.0\n",
      "189  2.0  2.0  2.0  3.0  2.0\n",
      "190  2.0  2.0  2.0  2.0  2.0\n",
      "191  2.0  2.0  2.0  2.0  2.0\n",
      "192  2.0  2.0  2.0  2.0  2.0\n",
      "\n",
      "[193 rows x 5 columns]\n",
      "Q6     0\n",
      "Q7     0\n",
      "Q8     0\n",
      "Q9     0\n",
      "Q10    0\n",
      "dtype: int64\n"
     ]
    }
   ],
   "source": [
    "df_num=df[[\"Q6\",\"Q7\",\"Q8\",\"Q9\",\"Q10\"]]\n",
    "df_num=df_num[df_num.isin([\"1\",\"2\",\"3\"])]\n",
    "df_num=df_num.replace({'1':1, '2': 2, '3': 3})\n",
    "\n",
    "df_num= df_num.fillna(2)\n",
    "\n",
    "print(df_num)\n",
    "print(df_num.isna().sum())"
   ]
  },
  {
   "cell_type": "code",
   "execution_count": 8,
   "metadata": {},
   "outputs": [
    {
     "name": "stdout",
     "output_type": "stream",
     "text": [
      "      Q6   Q7   Q8   Q9  Q10\n",
      "0    2.0  2.0  2.0  2.0  2.0\n",
      "1    2.0  2.0  2.0  2.0  2.0\n",
      "2    2.0  2.0  2.0  2.0  2.0\n",
      "3    2.0  2.0  2.0  2.0  2.0\n",
      "4    2.0  2.0  2.0  2.0  2.0\n",
      "..   ...  ...  ...  ...  ...\n",
      "188  2.0  2.0  2.0  3.0  2.0\n",
      "189  2.0  2.0  2.0  3.0  2.0\n",
      "190  2.0  2.0  2.0  2.0  2.0\n",
      "191  2.0  2.0  2.0  2.0  2.0\n",
      "192  2.0  2.0  2.0  2.0  2.0\n",
      "\n",
      "[193 rows x 5 columns]\n"
     ]
    }
   ],
   "source": [
    "print (df_num)"
   ]
  },
  {
   "cell_type": "code",
   "execution_count": 9,
   "metadata": {},
   "outputs": [
    {
     "name": "stdout",
     "output_type": "stream",
     "text": [
      "[[1. 1. 1. ... 2. 2. 2.]\n",
      " [2. 2. 2. ... 2. 2. 2.]\n",
      " [3. 3. 3. ... 2. 2. 2.]\n",
      " ...\n",
      " [1. 3. 2. ... 2. 2. 2.]\n",
      " [1. 2. 3. ... 2. 2. 2.]\n",
      " [1. 2. 3. ... 2. 2. 2.]] (193, 10)\n",
      "[2 3 1 3 2 2 3 3 3 3 2 3 3 2 3 3 3 2 3 3 2 3 2 3 3 3 3 3 3 2 3 3 3 3 3 2 3\n",
      " 2 3 3 3 2 3 2 3 3 3 3 3 3 3 3 3 3 2 2 3 3 3 3 3 3 3 3 2 3 3 2 3 3 3 3 2 2\n",
      " 2 3 2 2 2 3 3 3 3 2 2 3 2 3 3 3 2 3 2 2 2 3 2 2 2 2 2 2 3 2 3 2 3 2 2 3 3\n",
      " 3 3 3 2 2 2 3 3 3 3 3 3 3 3 3 1 3 3 3 3 3 3 2 2 3 3 3 3 3 3 3 3 3 3 2 2 2\n",
      " 1 3 3 3 2 3 3 2 3 3 2 1 2 3 3 2 2 2 2 2 2 3 3 3 3 3 3 3 3 3 2 2 3 3 3 2 2\n",
      " 1 2 3 2 3 3 3 3] (193,)\n"
     ]
    }
   ],
   "source": [
    "df = pd.concat((df_lettre, df_num), axis=1)\n",
    "x=np.array(df)\n",
    "# y=y.reshape(len(y),1)\n",
    "all=np.column_stack((x,y))\n",
    "print(x,x.shape)\n",
    "print(y,y.shape)"
   ]
  },
  {
   "cell_type": "markdown",
   "metadata": {},
   "source": [
    "#### Fonction permettant de calculer les 3 différentes distances : Euclidean, Manhattan et Minkowski, (def distance(metric=’ Euclidean’, **kargs))."
   ]
  },
  {
   "cell_type": "code",
   "execution_count": 10,
   "metadata": {},
   "outputs": [
    {
     "name": "stdout",
     "output_type": "stream",
     "text": [
      "[2. 2. 2. 2. 2. 2. 2. 2. 2. 2.] \n",
      " [2. 1. 1. 1. 1. 2. 2. 3. 2. 2.]\n"
     ]
    },
    {
     "data": {
      "text/plain": [
       "5.0"
      ]
     },
     "execution_count": 10,
     "metadata": {},
     "output_type": "execute_result"
    }
   ],
   "source": [
    "import math\n",
    "# Calcul de la distance entre 2 vecteurs\n",
    "metric='Manhattan'\n",
    "def calc_distance(point_1, point_2,metric):\n",
    "    euclidean_distance = 0\n",
    "    manhattan_distance = 0\n",
    "    minkowski_distance= 0\n",
    "    p=3\n",
    "    if metric =='Euclidean':\n",
    "        for i in range(len(point_1)-1):\n",
    "            \n",
    "            euclidean_distance += ((point_1[i] - point_2[i])**2)\n",
    "        return euclidean_distance**(1/2)\n",
    "    \n",
    "    elif metric=='Manhattan':\n",
    "        for i in range(len(point_1)-1):\n",
    "            manhattan_distance += (abs(point_1[i] - point_2[i]))\n",
    "        return(manhattan_distance)\n",
    "    \n",
    "    elif metric=='Minkowski':\n",
    "        for i in range(len(point_1)-1):\n",
    "            minkowski_distance += (abs(point_1[i] - point_2[i]))**p\n",
    "        return(minkowski_distance**(1/p))\n",
    "new=x[1]\n",
    "ref=x[12]\n",
    "print(new, '\\n',ref)   \n",
    "calc_distance(new,ref,metric) #exemple de calcul de distance entre 2 points"
   ]
  },
  {
   "cell_type": "code",
   "execution_count": 11,
   "metadata": {},
   "outputs": [
    {
     "data": {
      "text/plain": [
       "[array([1., 3., 1., 1., 3., 3., 2., 2., 2., 3.]),\n",
       " array([1., 3., 3., 1., 3., 3., 2., 2., 2., 2.]),\n",
       " array([1., 3., 1., 1., 1., 2., 2., 2., 2., 2.])]"
      ]
     },
     "execution_count": 11,
     "metadata": {},
     "output_type": "execute_result"
    }
   ],
   "source": [
    "\n",
    "# Trouve les voisins les plus proches\n",
    "def get_neighbors(train, test_row, num_neighbors):\n",
    "    distances = list()\n",
    "    for train_row in train:\n",
    "        dist = calc_distance(test_row, train_row,metric)\n",
    "        distances.append((train_row, dist))\n",
    "    distances.sort(key=lambda x: x[1])\n",
    "    neighbors = list()\n",
    "    for i in range(num_neighbors):\n",
    "        neighbors.append(distances[i][0])\n",
    "    return neighbors\n",
    "get_neighbors(x,x[10],3) # exemple de voisins proches"
   ]
  },
  {
   "cell_type": "code",
   "execution_count": 12,
   "metadata": {},
   "outputs": [],
   "source": [
    "def predict_classification(train, test_row, num_neighbors):\n",
    "    classe = None\n",
    "    neighbors = get_neighbors(train, test_row, num_neighbors)\n",
    "    output_values = [row[-1] for row in neighbors]\n",
    "    prediction = max(set(output_values), key=output_values.count)\n",
    "    if prediction == 1.0:\n",
    "        classe = 1\n",
    "    elif prediction == 2.0:\n",
    "        classe = 2\n",
    "    elif prediction == 3.0:\n",
    "        classe = 3\n",
    "    return (classe)"
   ]
  },
  {
   "cell_type": "code",
   "execution_count": 13,
   "metadata": {},
   "outputs": [
    {
     "name": "stdout",
     "output_type": "stream",
     "text": [
      "2 3\n",
      "2 2\n",
      "2 3\n",
      "2 3\n",
      "2 2\n",
      "2 3\n",
      "2 3\n",
      "2 2\n",
      "2 2\n",
      "2 3\n",
      "2 2\n",
      "2 1\n",
      "2 1\n",
      "2 3\n",
      "2 3\n",
      "2 2\n",
      "2 3\n",
      "2 2\n",
      "2 3\n",
      "2 3\n",
      "2 3\n",
      "2 2\n",
      "2 3\n",
      "2 3\n",
      "2 3\n",
      "2 3\n",
      "2 2\n",
      "2 2\n",
      "2 2\n",
      "2 3\n",
      "2 2\n",
      "2 2\n",
      "2 3\n",
      "2 2\n",
      "2 3\n",
      "2 3\n",
      "2 3\n",
      "2 2\n",
      "2 3\n",
      "39 24\n",
      "0.38461538461538464\n"
     ]
    }
   ],
   "source": [
    "from sklearn.model_selection import train_test_split\n",
    "x_train, x_test, y_train, y_test = train_test_split(x, y, test_size=0.2, random_state=0)\n",
    "num=7\n",
    "err=0\n",
    "count=0\n",
    "for i in x_test:\n",
    "    \n",
    "    y_pred=predict_classification(x_train,i,num) \n",
    "    if y_pred!=y_test[count] :\n",
    "        err+=1\n",
    "    print(y_pred,y_test[count])\n",
    "    count+=1\n",
    "print(len(x_test),err)\n",
    "acc=(len(x_test)-err)/(len(x_test))\n",
    "print(acc)"
   ]
  },
  {
   "cell_type": "code",
   "execution_count": 14,
   "metadata": {},
   "outputs": [],
   "source": [
    "from sklearn import neighbors\n",
    "\n",
    "# score = []\n",
    "# best_k = 1\n",
    "# best_score = 0\n",
    "\n",
    "# for k in range(best_k, 20):\n",
    "#     model = neighbors.KNeighborsClassifier(n_neighbors=k)\n",
    "#     model.fit(x_train, y_train)\n",
    "#     score.append(model.score(x_train, y_train))\n",
    "    \n",
    "#     if best_score < model.score(x_train, y_train):\n",
    "#         best_k = k\n",
    "#         best_score = model.score(x_train, y_train)\n",
    "\n",
    "# print(best_k)\n",
    "# plt.plot(score)"
   ]
  },
  {
   "cell_type": "code",
   "execution_count": 15,
   "metadata": {},
   "outputs": [
    {
     "name": "stderr",
     "output_type": "stream",
     "text": [
      "C:\\Users\\utilisateur\\anaconda3\\lib\\site-packages\\sklearn\\model_selection\\_split.py:670: UserWarning: The least populated class in y has only 3 members, which is less than n_splits=5.\n",
      "  warnings.warn((\"The least populated class in y has only %d\"\n",
      "C:\\Users\\utilisateur\\anaconda3\\lib\\site-packages\\sklearn\\model_selection\\_split.py:670: UserWarning: The least populated class in y has only 3 members, which is less than n_splits=5.\n",
      "  warnings.warn((\"The least populated class in y has only %d\"\n",
      "C:\\Users\\utilisateur\\anaconda3\\lib\\site-packages\\sklearn\\model_selection\\_split.py:670: UserWarning: The least populated class in y has only 3 members, which is less than n_splits=5.\n",
      "  warnings.warn((\"The least populated class in y has only %d\"\n",
      "C:\\Users\\utilisateur\\anaconda3\\lib\\site-packages\\sklearn\\model_selection\\_split.py:670: UserWarning: The least populated class in y has only 3 members, which is less than n_splits=5.\n",
      "  warnings.warn((\"The least populated class in y has only %d\"\n",
      "C:\\Users\\utilisateur\\anaconda3\\lib\\site-packages\\sklearn\\model_selection\\_split.py:670: UserWarning: The least populated class in y has only 3 members, which is less than n_splits=5.\n",
      "  warnings.warn((\"The least populated class in y has only %d\"\n",
      "C:\\Users\\utilisateur\\anaconda3\\lib\\site-packages\\sklearn\\model_selection\\_split.py:670: UserWarning: The least populated class in y has only 3 members, which is less than n_splits=5.\n",
      "  warnings.warn((\"The least populated class in y has only %d\"\n",
      "C:\\Users\\utilisateur\\anaconda3\\lib\\site-packages\\sklearn\\model_selection\\_split.py:670: UserWarning: The least populated class in y has only 3 members, which is less than n_splits=5.\n",
      "  warnings.warn((\"The least populated class in y has only %d\"\n",
      "C:\\Users\\utilisateur\\anaconda3\\lib\\site-packages\\sklearn\\model_selection\\_split.py:670: UserWarning: The least populated class in y has only 3 members, which is less than n_splits=5.\n",
      "  warnings.warn((\"The least populated class in y has only %d\"\n",
      "C:\\Users\\utilisateur\\anaconda3\\lib\\site-packages\\sklearn\\model_selection\\_split.py:670: UserWarning: The least populated class in y has only 3 members, which is less than n_splits=5.\n",
      "  warnings.warn((\"The least populated class in y has only %d\"\n",
      "C:\\Users\\utilisateur\\anaconda3\\lib\\site-packages\\sklearn\\model_selection\\_split.py:670: UserWarning: The least populated class in y has only 3 members, which is less than n_splits=5.\n",
      "  warnings.warn((\"The least populated class in y has only %d\"\n",
      "C:\\Users\\utilisateur\\anaconda3\\lib\\site-packages\\sklearn\\model_selection\\_split.py:670: UserWarning: The least populated class in y has only 3 members, which is less than n_splits=5.\n",
      "  warnings.warn((\"The least populated class in y has only %d\"\n",
      "C:\\Users\\utilisateur\\anaconda3\\lib\\site-packages\\sklearn\\model_selection\\_split.py:670: UserWarning: The least populated class in y has only 3 members, which is less than n_splits=5.\n",
      "  warnings.warn((\"The least populated class in y has only %d\"\n",
      "C:\\Users\\utilisateur\\anaconda3\\lib\\site-packages\\sklearn\\model_selection\\_split.py:670: UserWarning: The least populated class in y has only 3 members, which is less than n_splits=5.\n",
      "  warnings.warn((\"The least populated class in y has only %d\"\n",
      "C:\\Users\\utilisateur\\anaconda3\\lib\\site-packages\\sklearn\\model_selection\\_split.py:670: UserWarning: The least populated class in y has only 3 members, which is less than n_splits=5.\n",
      "  warnings.warn((\"The least populated class in y has only %d\"\n",
      "C:\\Users\\utilisateur\\anaconda3\\lib\\site-packages\\sklearn\\model_selection\\_split.py:670: UserWarning: The least populated class in y has only 3 members, which is less than n_splits=5.\n",
      "  warnings.warn((\"The least populated class in y has only %d\"\n",
      "C:\\Users\\utilisateur\\anaconda3\\lib\\site-packages\\sklearn\\model_selection\\_split.py:670: UserWarning: The least populated class in y has only 3 members, which is less than n_splits=5.\n",
      "  warnings.warn((\"The least populated class in y has only %d\"\n",
      "C:\\Users\\utilisateur\\anaconda3\\lib\\site-packages\\sklearn\\model_selection\\_split.py:670: UserWarning: The least populated class in y has only 3 members, which is less than n_splits=5.\n",
      "  warnings.warn((\"The least populated class in y has only %d\"\n",
      "C:\\Users\\utilisateur\\anaconda3\\lib\\site-packages\\sklearn\\model_selection\\_split.py:670: UserWarning: The least populated class in y has only 3 members, which is less than n_splits=5.\n",
      "  warnings.warn((\"The least populated class in y has only %d\"\n",
      "C:\\Users\\utilisateur\\anaconda3\\lib\\site-packages\\sklearn\\model_selection\\_split.py:670: UserWarning: The least populated class in y has only 3 members, which is less than n_splits=5.\n",
      "  warnings.warn((\"The least populated class in y has only %d\"\n",
      "C:\\Users\\utilisateur\\anaconda3\\lib\\site-packages\\sklearn\\model_selection\\_split.py:670: UserWarning: The least populated class in y has only 3 members, which is less than n_splits=5.\n",
      "  warnings.warn((\"The least populated class in y has only %d\"\n",
      "C:\\Users\\utilisateur\\anaconda3\\lib\\site-packages\\sklearn\\model_selection\\_split.py:670: UserWarning: The least populated class in y has only 3 members, which is less than n_splits=5.\n",
      "  warnings.warn((\"The least populated class in y has only %d\"\n",
      "C:\\Users\\utilisateur\\anaconda3\\lib\\site-packages\\sklearn\\model_selection\\_split.py:670: UserWarning: The least populated class in y has only 3 members, which is less than n_splits=5.\n",
      "  warnings.warn((\"The least populated class in y has only %d\"\n",
      "C:\\Users\\utilisateur\\anaconda3\\lib\\site-packages\\sklearn\\model_selection\\_split.py:670: UserWarning: The least populated class in y has only 3 members, which is less than n_splits=5.\n",
      "  warnings.warn((\"The least populated class in y has only %d\"\n",
      "C:\\Users\\utilisateur\\anaconda3\\lib\\site-packages\\sklearn\\model_selection\\_split.py:670: UserWarning: The least populated class in y has only 3 members, which is less than n_splits=5.\n",
      "  warnings.warn((\"The least populated class in y has only %d\"\n",
      "C:\\Users\\utilisateur\\anaconda3\\lib\\site-packages\\sklearn\\model_selection\\_split.py:670: UserWarning: The least populated class in y has only 3 members, which is less than n_splits=5.\n",
      "  warnings.warn((\"The least populated class in y has only %d\"\n",
      "C:\\Users\\utilisateur\\anaconda3\\lib\\site-packages\\sklearn\\model_selection\\_split.py:670: UserWarning: The least populated class in y has only 3 members, which is less than n_splits=5.\n",
      "  warnings.warn((\"The least populated class in y has only %d\"\n",
      "C:\\Users\\utilisateur\\anaconda3\\lib\\site-packages\\sklearn\\model_selection\\_split.py:670: UserWarning: The least populated class in y has only 3 members, which is less than n_splits=5.\n",
      "  warnings.warn((\"The least populated class in y has only %d\"\n",
      "C:\\Users\\utilisateur\\anaconda3\\lib\\site-packages\\sklearn\\model_selection\\_split.py:670: UserWarning: The least populated class in y has only 3 members, which is less than n_splits=5.\n",
      "  warnings.warn((\"The least populated class in y has only %d\"\n",
      "C:\\Users\\utilisateur\\anaconda3\\lib\\site-packages\\sklearn\\model_selection\\_split.py:670: UserWarning: The least populated class in y has only 3 members, which is less than n_splits=5.\n",
      "  warnings.warn((\"The least populated class in y has only %d\"\n",
      "C:\\Users\\utilisateur\\anaconda3\\lib\\site-packages\\sklearn\\model_selection\\_split.py:670: UserWarning: The least populated class in y has only 3 members, which is less than n_splits=5.\n",
      "  warnings.warn((\"The least populated class in y has only %d\"\n",
      "C:\\Users\\utilisateur\\anaconda3\\lib\\site-packages\\sklearn\\model_selection\\_split.py:670: UserWarning: The least populated class in y has only 3 members, which is less than n_splits=5.\n",
      "  warnings.warn((\"The least populated class in y has only %d\"\n",
      "C:\\Users\\utilisateur\\anaconda3\\lib\\site-packages\\sklearn\\model_selection\\_split.py:670: UserWarning: The least populated class in y has only 3 members, which is less than n_splits=5.\n",
      "  warnings.warn((\"The least populated class in y has only %d\"\n",
      "C:\\Users\\utilisateur\\anaconda3\\lib\\site-packages\\sklearn\\model_selection\\_split.py:670: UserWarning: The least populated class in y has only 3 members, which is less than n_splits=5.\n",
      "  warnings.warn((\"The least populated class in y has only %d\"\n",
      "C:\\Users\\utilisateur\\anaconda3\\lib\\site-packages\\sklearn\\model_selection\\_split.py:670: UserWarning: The least populated class in y has only 3 members, which is less than n_splits=5.\n",
      "  warnings.warn((\"The least populated class in y has only %d\"\n",
      "C:\\Users\\utilisateur\\anaconda3\\lib\\site-packages\\sklearn\\model_selection\\_split.py:670: UserWarning: The least populated class in y has only 3 members, which is less than n_splits=5.\n",
      "  warnings.warn((\"The least populated class in y has only %d\"\n",
      "C:\\Users\\utilisateur\\anaconda3\\lib\\site-packages\\sklearn\\model_selection\\_split.py:670: UserWarning: The least populated class in y has only 3 members, which is less than n_splits=5.\n",
      "  warnings.warn((\"The least populated class in y has only %d\"\n",
      "C:\\Users\\utilisateur\\anaconda3\\lib\\site-packages\\sklearn\\model_selection\\_split.py:670: UserWarning: The least populated class in y has only 3 members, which is less than n_splits=5.\n",
      "  warnings.warn((\"The least populated class in y has only %d\"\n",
      "C:\\Users\\utilisateur\\anaconda3\\lib\\site-packages\\sklearn\\model_selection\\_split.py:670: UserWarning: The least populated class in y has only 3 members, which is less than n_splits=5.\n",
      "  warnings.warn((\"The least populated class in y has only %d\"\n",
      "C:\\Users\\utilisateur\\anaconda3\\lib\\site-packages\\sklearn\\model_selection\\_split.py:670: UserWarning: The least populated class in y has only 3 members, which is less than n_splits=5.\n",
      "  warnings.warn((\"The least populated class in y has only %d\"\n"
     ]
    },
    {
     "name": "stderr",
     "output_type": "stream",
     "text": [
      "C:\\Users\\utilisateur\\anaconda3\\lib\\site-packages\\sklearn\\model_selection\\_split.py:670: UserWarning: The least populated class in y has only 3 members, which is less than n_splits=5.\n",
      "  warnings.warn((\"The least populated class in y has only %d\"\n",
      "C:\\Users\\utilisateur\\anaconda3\\lib\\site-packages\\sklearn\\model_selection\\_split.py:670: UserWarning: The least populated class in y has only 3 members, which is less than n_splits=5.\n",
      "  warnings.warn((\"The least populated class in y has only %d\"\n",
      "C:\\Users\\utilisateur\\anaconda3\\lib\\site-packages\\sklearn\\model_selection\\_split.py:670: UserWarning: The least populated class in y has only 3 members, which is less than n_splits=5.\n",
      "  warnings.warn((\"The least populated class in y has only %d\"\n",
      "C:\\Users\\utilisateur\\anaconda3\\lib\\site-packages\\sklearn\\model_selection\\_split.py:670: UserWarning: The least populated class in y has only 3 members, which is less than n_splits=5.\n",
      "  warnings.warn((\"The least populated class in y has only %d\"\n",
      "C:\\Users\\utilisateur\\anaconda3\\lib\\site-packages\\sklearn\\model_selection\\_split.py:670: UserWarning: The least populated class in y has only 3 members, which is less than n_splits=5.\n",
      "  warnings.warn((\"The least populated class in y has only %d\"\n",
      "C:\\Users\\utilisateur\\anaconda3\\lib\\site-packages\\sklearn\\model_selection\\_split.py:670: UserWarning: The least populated class in y has only 3 members, which is less than n_splits=5.\n",
      "  warnings.warn((\"The least populated class in y has only %d\"\n",
      "C:\\Users\\utilisateur\\anaconda3\\lib\\site-packages\\sklearn\\model_selection\\_split.py:670: UserWarning: The least populated class in y has only 3 members, which is less than n_splits=5.\n",
      "  warnings.warn((\"The least populated class in y has only %d\"\n",
      "C:\\Users\\utilisateur\\anaconda3\\lib\\site-packages\\sklearn\\model_selection\\_split.py:670: UserWarning: The least populated class in y has only 3 members, which is less than n_splits=5.\n",
      "  warnings.warn((\"The least populated class in y has only %d\"\n",
      "C:\\Users\\utilisateur\\anaconda3\\lib\\site-packages\\sklearn\\model_selection\\_split.py:670: UserWarning: The least populated class in y has only 3 members, which is less than n_splits=5.\n",
      "  warnings.warn((\"The least populated class in y has only %d\"\n",
      "C:\\Users\\utilisateur\\anaconda3\\lib\\site-packages\\sklearn\\model_selection\\_split.py:670: UserWarning: The least populated class in y has only 3 members, which is less than n_splits=5.\n",
      "  warnings.warn((\"The least populated class in y has only %d\"\n"
     ]
    },
    {
     "data": {
      "text/plain": [
       "[<matplotlib.lines.Line2D at 0x1a8fec233d0>]"
      ]
     },
     "execution_count": 15,
     "metadata": {},
     "output_type": "execute_result"
    },
    {
     "data": {
      "image/png": "[encoded data removed]",
      "text/plain": [
       "<Figure size 432x288 with 1 Axes>"
      ]
     },
     "metadata": {
      "needs_background": "light"
     },
     "output_type": "display_data"
    }
   ],
   "source": [
    "from sklearn.model_selection import cross_val_score\n",
    "model = neighbors.KNeighborsClassifier()\n",
    "\n",
    "val_score = []\n",
    "for k in range(1, 50):\n",
    "    score = cross_val_score(neighbors.KNeighborsClassifier(k), x_train, y_train, cv=5).mean()\n",
    "    val_score.append(score)\n",
    "\n",
    "plt.plot(val_score)"
   ]
  },
  {
   "cell_type": "code",
   "execution_count": 16,
   "metadata": {},
   "outputs": [
    {
     "data": {
      "text/plain": [
       "0.7662337662337663"
      ]
     },
     "execution_count": 16,
     "metadata": {},
     "output_type": "execute_result"
    }
   ],
   "source": [
    "knn= neighbors.KNeighborsClassifier(5)\n",
    "knn.fit(x_train,y_train)\n",
    "knn.score(x_train, y_train)"
   ]
  },
  {
   "cell_type": "code",
   "execution_count": 17,
   "metadata": {},
   "outputs": [
    {
     "name": "stderr",
     "output_type": "stream",
     "text": [
      "C:\\Users\\utilisateur\\anaconda3\\lib\\site-packages\\sklearn\\model_selection\\_split.py:670: UserWarning: The least populated class in y has only 3 members, which is less than n_splits=5.\n",
      "  warnings.warn((\"The least populated class in y has only %d\"\n"
     ]
    },
    {
     "data": {
      "text/plain": [
       "GridSearchCV(cv=5, estimator=KNeighborsClassifier(),\n",
       "             param_grid={'metric': ['euclidean', 'manhattan'],\n",
       "                         'n_neighbors': array([ 1,  2,  3,  4,  5,  6,  7,  8,  9, 10, 11, 12, 13, 14, 15, 16, 17,\n",
       "       18, 19])})"
      ]
     },
     "execution_count": 17,
     "metadata": {},
     "output_type": "execute_result"
    }
   ],
   "source": [
    "from sklearn.model_selection import GridSearchCV\n",
    "param_grid = {'n_neighbors': np.arange(1, 20),\n",
    "              'metric': ['euclidean', 'manhattan']}\n",
    "\n",
    "grid = GridSearchCV(neighbors.KNeighborsClassifier(), param_grid, cv=5)\n",
    "\n",
    "grid.fit(x_train, y_train)"
   ]
  },
  {
   "cell_type": "code",
   "execution_count": 18,
   "metadata": {},
   "outputs": [
    {
     "name": "stdout",
     "output_type": "stream",
     "text": [
      "0.7468817204301075\n",
      "{'metric': 'euclidean', 'n_neighbors': 10}\n"
     ]
    }
   ],
   "source": [
    "print(grid.best_score_)\n",
    "print(grid.best_params_)"
   ]
  },
  {
   "cell_type": "code",
   "execution_count": 19,
   "metadata": {},
   "outputs": [
    {
     "data": {
      "text/plain": [
       "0.5384615384615384"
      ]
     },
     "execution_count": 19,
     "metadata": {},
     "output_type": "execute_result"
    }
   ],
   "source": [
    "model = grid.best_estimator_\n",
    "model.score(x_test, y_test)"
   ]
  },
  {
   "cell_type": "code",
   "execution_count": null,
   "metadata": {},
   "outputs": [],
   "source": []
  }
 ],
 "metadata": {
  "kernelspec": {
   "display_name": "Python 3",
   "language": "python",
   "name": "python3"
  },
  "language_info": {
   "codemirror_mode": {
    "name": "ipython",
    "version": 3
   },
   "file_extension": ".py",
   "mimetype": "text/x-python",
   "name": "python",
   "nbconvert_exporter": "python",
   "pygments_lexer": "ipython3",
   "version": "3.8.3"
  }
 },
 "nbformat": 4,
 "nbformat_minor": 4
}
